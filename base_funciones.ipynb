{
 "cells": [
  {
   "cell_type": "code",
   "execution_count": 3,
   "metadata": {},
   "outputs": [
    {
     "data": {
      "text/plain": [
       "True"
      ]
     },
     "execution_count": 3,
     "metadata": {},
     "output_type": "execute_result"
    }
   ],
   "source": [
    "import pandas as pd\n",
    "import mysql.connector as connection\n",
    "from google.cloud import bigquery\n",
    "from dotenv import load_dotenv\n",
    "import os\n",
    "load_dotenv()"
   ]
  },
  {
   "cell_type": "markdown",
   "metadata": {},
   "source": [
    "Hacemos una funcion la cual me devolverá los \"order_customer_id\" que cumplen ciertos requisitos:"
   ]
  },
  {
   "cell_type": "code",
   "execution_count": 6,
   "metadata": {},
   "outputs": [],
   "source": [
    "def listaOrders(order_customer_id):\n",
    "    mydb = connection.connect(\n",
    "        host= os.getenv('DB_HOST'), \n",
    "        user= os.getenv('DB_USER'), \n",
    "        passwd= os.getenv('DB_PASS'), \n",
    "        database=os.getenv('DB_DB') \n",
    "    )\n",
    "\n",
    "    sql = f\"SELECT * FROM retail_db.orders WHERE order_customer_id ={order_customer_id}\"\n",
    "    df = pd.read_sql(sql, mydb)\n",
    "    mydb.close()\n",
    "    return df.to_json(orient=\"records\") # como lo vamos a aplicar en cloud functions el formato que necesitamos es json (http) sino solo retornamos df"
   ]
  },
  {
   "cell_type": "code",
   "execution_count": 7,
   "metadata": {},
   "outputs": [
    {
     "name": "stderr",
     "output_type": "stream",
     "text": [
      "C:\\Users\\GGudino\\AppData\\Local\\Temp\\ipykernel_30320\\2899773967.py:10: UserWarning: pandas only supports SQLAlchemy connectable (engine/connection) or database string URI or sqlite3 DBAPI2 connection. Other DBAPI2 objects are not tested. Please consider using SQLAlchemy.\n",
      "  df = pd.read_sql(sql, mydb)\n"
     ]
    },
    {
     "data": {
      "text/plain": [
       "'[{\"order_id\":7565,\"order_date\":1378684800000,\"order_customer_id\":1117,\"order_status\":\"ON_HOLD\"},{\"order_id\":8405,\"order_date\":1379203200000,\"order_customer_id\":1117,\"order_status\":\"PENDING_PAYMENT\"},{\"order_id\":24437,\"order_date\":1387756800000,\"order_customer_id\":1117,\"order_status\":\"PENDING\"},{\"order_id\":25942,\"order_date\":1388534400000,\"order_customer_id\":1117,\"order_status\":\"PROCESSING\"},{\"order_id\":43297,\"order_date\":1397865600000,\"order_customer_id\":1117,\"order_status\":\"PENDING_PAYMENT\"},{\"order_id\":68880,\"order_date\":1405209600000,\"order_customer_id\":1117,\"order_status\":\"COMPLETE\"}]'"
      ]
     },
     "execution_count": 7,
     "metadata": {},
     "output_type": "execute_result"
    }
   ],
   "source": [
    "listaOrders(1117)"
   ]
  },
  {
   "cell_type": "markdown",
   "metadata": {},
   "source": [
    "Esta función la llevamos a Cloud Functions en GCP. Para ello deberemos:\n",
    "1. Hacer click en Crear función\n",
    "2. Elegir el entorno de 1era generación para generar menos costos\n",
    "3. Darle un nombre a la función\n",
    "4. "
   ]
  }
 ],
 "metadata": {
  "kernelspec": {
   "display_name": "venvp",
   "language": "python",
   "name": "python3"
  },
  "language_info": {
   "codemirror_mode": {
    "name": "ipython",
    "version": 3
   },
   "file_extension": ".py",
   "mimetype": "text/x-python",
   "name": "python",
   "nbconvert_exporter": "python",
   "pygments_lexer": "ipython3",
   "version": "3.11.3"
  },
  "orig_nbformat": 4
 },
 "nbformat": 4,
 "nbformat_minor": 2
}
