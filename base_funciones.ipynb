{
 "cells": [
  {
   "cell_type": "markdown",
   "metadata": {},
   "source": [
    "# Funciones\n",
    "En este notebook vemos las funciones vista en clase que nos servirán de ayuda para cuando desarrollemos aquellas que nos pide el enunciado."
   ]
  },
  {
   "cell_type": "code",
   "execution_count": 1,
   "metadata": {},
   "outputs": [
    {
     "data": {
      "text/plain": [
       "True"
      ]
     },
     "execution_count": 1,
     "metadata": {},
     "output_type": "execute_result"
    }
   ],
   "source": [
    "import pandas as pd\n",
    "import mysql.connector as connection\n",
    "from google.cloud import bigquery\n",
    "from dotenv import load_dotenv\n",
    "import os\n",
    "load_dotenv()"
   ]
  },
  {
   "cell_type": "markdown",
   "metadata": {},
   "source": [
    "Hacemos una funcion la cual me devolverá los \"order_customer_id\" que cumplen ciertos requisitos:"
   ]
  },
  {
   "cell_type": "code",
   "execution_count": 2,
   "metadata": {},
   "outputs": [],
   "source": [
    "def listaOrders(order_customer_id):\n",
    "    mydb = connection.connect(\n",
    "        host= os.getenv('DB_HOST'), \n",
    "        user= os.getenv('DB_USER'), \n",
    "        passwd= os.getenv('DB_PASS'), \n",
    "        database=os.getenv('DB_DB') \n",
    "    )\n",
    "\n",
    "    sql = f\"SELECT * FROM retail_db.orders WHERE order_customer_id ={order_customer_id}\"\n",
    "    df = pd.read_sql(sql, mydb)\n",
    "    mydb.close()\n",
    "    return df.to_json(orient=\"records\") # como lo vamos a aplicar en cloud functions el formato que necesitamos es json (http) sino solo retornamos df"
   ]
  },
  {
   "cell_type": "code",
   "execution_count": 3,
   "metadata": {},
   "outputs": [
    {
     "name": "stderr",
     "output_type": "stream",
     "text": [
      "C:\\Users\\GGudino\\AppData\\Local\\Temp\\ipykernel_948\\2115503731.py:10: UserWarning: pandas only supports SQLAlchemy connectable (engine/connection) or database string URI or sqlite3 DBAPI2 connection. Other DBAPI2 objects are not tested. Please consider using SQLAlchemy.\n",
      "  df = pd.read_sql(sql, mydb)\n"
     ]
    },
    {
     "data": {
      "text/plain": [
       "'[{\"order_id\":28408,\"order_date\":1389830400000,\"order_customer_id\":2000,\"order_status\":\"PROCESSING\"},{\"order_id\":29016,\"order_date\":1390176000000,\"order_customer_id\":2000,\"order_status\":\"PENDING_PAYMENT\"},{\"order_id\":31989,\"order_date\":1391731200000,\"order_customer_id\":2000,\"order_status\":\"COMPLETE\"},{\"order_id\":63365,\"order_date\":1393027200000,\"order_customer_id\":2000,\"order_status\":\"COMPLETE\"},{\"order_id\":68481,\"order_date\":1400630400000,\"order_customer_id\":2000,\"order_status\":\"PENDING_PAYMENT\"},{\"order_id\":68884,\"order_date\":1689984000000,\"order_customer_id\":2000,\"order_status\":\"PENDING\"}]'"
      ]
     },
     "execution_count": 3,
     "metadata": {},
     "output_type": "execute_result"
    }
   ],
   "source": [
    "listaOrders(2000)"
   ]
  },
  {
   "cell_type": "markdown",
   "metadata": {},
   "source": [
    "### Cloud Functions\n",
    "Si a esta función la llevamos a Cloud Functions en GCP deberemos:\n",
    "1. Hacer click en Crear función\n",
    "2. Elegir el entorno de 1era generación para generar menos costos\n",
    "3. Darle un nombre a la función\n",
    "4. En AUTENTICACIÓN seleccionamos \"Permitir invocaciones sin autenticar\"\n",
    "5. Ya en la parte de \"Código\" elegiremos el entorno de ejecución, que en este caso será Python 3.11\n",
    "6. Donde indica punto de entrada deberemos poner el nombre de nuestra función\n",
    "7. En el espacio que tenemos, cargamos el script de la función. Tenemos que tener en cuenta que en este ambiente las funciones no aceptan argumentos sino \"request\" (que es lo que pondremos en el http luego de un \"?\", cuando consultemos a la función). Luego dentro de la función deberemos definir los argumentos del \"request\". Ejemplo:\n",
    "```python\n",
    "def listaOrders(request):\n",
    "    request_args = request.args\n",
    "    order_customer_id = request_args[\"order_customer_id\"] # podemos poner otro nombre dentro de request_args ya que es como identificar al argumento en la url.\n",
    "    mydb = connection.connect(\n",
    "        host= 'DB_HOST', \n",
    "        user= 'DB_USER', \n",
    "        passwd= 'DB_PASS', \n",
    "        database= 'DB_DB'\n",
    "    )\n",
    "\n",
    "    sql = f\"SELECT * FROM retail_db.orders WHERE order_customer_id ={order_customer_id}\"\n",
    "    df = pd.read_sql(sql, mydb)\n",
    "    mydb.close()\n",
    "    return df.to_json(orient=\"records\")\n",
    "```\n",
    "Consultando luego la Cloud Function:\n",
    "```\n",
    "www.urldeejemplo.com/listaOrders?order_customer_id=1117\n",
    "```\n",
    "8. Luego en el archivo requirements.txt de Cloud Functions ponemos (no se usarán todas):\n",
    "google-cloud\n",
    "google.cloud.storage\n",
    "mysql-connector-python\n",
    "google-api-python-client\n",
    "google-cloud-bigquery\n",
    "google-cloud-bigquery-storage\n",
    "SQLAlchemy\n",
    "pyarrow\n",
    "pandas\n",
    "9. En \"Permisos\" habilitar el uso para que cualquiera pueda invocar la función. \n",
    "    - Vamos a \"Otorgar acceso\"\n",
    "    - Donde nos da la opción de completar \"Principales nuevas\" ponemos \"allUsers\"\n",
    "    - Rol: \"Invocador de Cloud Functions\""
   ]
  },
  {
   "cell_type": "markdown",
   "metadata": {},
   "source": [
    "### Insert\n",
    "Ahora vamos a crear una función que inserte datos en nuestra base de datos"
   ]
  },
  {
   "cell_type": "code",
   "execution_count": 4,
   "metadata": {},
   "outputs": [],
   "source": [
    "from datetime import date\n",
    "\n",
    "def insertarOrdenes(order_customer_id, order_status):\n",
    "    mydb = connection.connect(\n",
    "        host= os.getenv('DB_HOST'), \n",
    "        user= os.getenv('DB_USER'), \n",
    "        passwd= os.getenv('DB_PASS'), \n",
    "        database=os.getenv('DB_DB') \n",
    "    )\n",
    "\n",
    "    order_date = date.today()\n",
    "\n",
    "    mycursor = mydb.cursor() # necesario para interactuar con la BD cuando queremos realizar \"inserts\"\n",
    "\n",
    "    #query = f\"INSERT INTO retail_db.orders(order_date, order_customer_id, order_status) VALUES ({order_date},{order_customer_id}, {order_status})\" # abajo alternativa para no usar el f\n",
    "    query = \"INSERT INTO retail_db.orders(order_date, order_customer_id, order_status) VALUES (%s,%s, %s)\"\n",
    "    val = (order_date, order_customer_id, order_status)\n",
    "    mycursor.execute(query,val)\n",
    "    mydb.commit()\n",
    "    mydb.close()\n",
    "    return \"¡Datos cargados!\""
   ]
  },
  {
   "cell_type": "code",
   "execution_count": 5,
   "metadata": {},
   "outputs": [
    {
     "data": {
      "text/plain": [
       "'¡Datos cargados!'"
      ]
     },
     "execution_count": 5,
     "metadata": {},
     "output_type": "execute_result"
    }
   ],
   "source": [
    "insertarOrdenes(2000, \"PENDING\")"
   ]
  }
 ],
 "metadata": {
  "kernelspec": {
   "display_name": "venvp",
   "language": "python",
   "name": "python3"
  },
  "language_info": {
   "codemirror_mode": {
    "name": "ipython",
    "version": 3
   },
   "file_extension": ".py",
   "mimetype": "text/x-python",
   "name": "python",
   "nbconvert_exporter": "python",
   "pygments_lexer": "ipython3",
   "version": "3.11.3"
  },
  "orig_nbformat": 4
 },
 "nbformat": 4,
 "nbformat_minor": 2
}
