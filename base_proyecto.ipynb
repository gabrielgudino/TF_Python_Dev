{
  "cells": [
    {
      "cell_type": "markdown",
      "id": "oZdfijZyFVnP",
      "metadata": {
        "id": "oZdfijZyFVnP"
      },
      "source": [
        "# Trabajando con Pandas, MySQL y Google BigQuery\n",
        "\n",
        "En este ejercicio, vamos a aprender cómo interactuar con una base de datos MySQL utilizando Pandas y luego cargar los datos en Google BigQuery. Siga las instrucciones a continuación para completar el ejercicio."
      ]
    },
    {
      "cell_type": "markdown",
      "id": "oswdyc6PFbVk",
      "metadata": {
        "id": "oswdyc6PFbVk"
      },
      "source": [
        "## Paso 1: Instalación de paquetes\n",
        "\n",
        "Instale los siguientes paquetes utilizando `pip`:\n",
        "\n",
        "1. mysql-connector-python\n",
        "2. google-cloud"
      ]
    },
    {
      "cell_type": "code",
      "execution_count": null,
      "id": "dBaVCoFWFfdC",
      "metadata": {
        "id": "dBaVCoFWFfdC"
      },
      "outputs": [],
      "source": [
        "# %pip install mysql-connector-python\n",
        "# %pip install google-cloud-bigquery\n",
        "# %pip install pandas\n",
        "# %pip install pyarrow"
      ]
    },
    {
      "cell_type": "markdown",
      "id": "pXLyoVLqFgpL",
      "metadata": {
        "id": "pXLyoVLqFgpL"
      },
      "source": [
        "## Paso 2: Importar paquetes necesarios\n",
        "\n",
        "Importe los siguientes paquetes:\n",
        "\n",
        "1. mysql\n",
        "2. pandas\n",
        "3. mysql.connector\n",
        "4. google.cloud.bigquery\n",
        "5. os"
      ]
    },
    {
      "cell_type": "code",
      "execution_count": 39,
      "id": "VF6Il9oZFj1c",
      "metadata": {
        "id": "VF6Il9oZFj1c"
      },
      "outputs": [
        {
          "data": {
            "text/plain": [
              "True"
            ]
          },
          "execution_count": 39,
          "metadata": {},
          "output_type": "execute_result"
        }
      ],
      "source": [
        "import pandas as pd\n",
        "import mysql.connector as connection\n",
        "from google.cloud import bigquery\n",
        "from dotenv import load_dotenv\n",
        "import os\n",
        "load_dotenv() # necesario para utilizar el .env"
      ]
    },
    {
      "cell_type": "markdown",
      "id": "7zA258NLFkci",
      "metadata": {
        "id": "7zA258NLFkci"
      },
      "source": [
        "## Paso 3: Establecer la conexión con la base de datos MySQL\n",
        "\n",
        "Complete el siguiente código para establecer una conexión con la base de datos MySQL:"
      ]
    },
    {
      "cell_type": "markdown",
      "id": "sWFXcH6jFrUL",
      "metadata": {
        "id": "sWFXcH6jFrUL"
      },
      "source": [
        "```\n",
        "mydb = mysql.connector.connect(\n",
        "    host=\"\",\n",
        "    user=\"\",\n",
        "    passwd=\"\",\n",
        "    database=\"\"\n",
        ")\n",
        "```\n",
        "\n"
      ]
    },
    {
      "cell_type": "code",
      "execution_count": 40,
      "id": "ah9E3APyFqXm",
      "metadata": {
        "id": "ah9E3APyFqXm"
      },
      "outputs": [],
      "source": [
        "mydb = connection.connect(\n",
        "    host= os.getenv('DB_HOST'), #DB_HOST\n",
        "    user= os.getenv('DB_USER'), #DB_USER\n",
        "    passwd= os.getenv('DB_PASS'), #DB_PASS\n",
        "    database=os.getenv('DB_DB') #DB_DB\n",
        ")"
      ]
    },
    {
      "cell_type": "markdown",
      "id": "YaFj_e7lF0Kg",
      "metadata": {
        "id": "YaFj_e7lF0Kg"
      },
      "source": [
        "## Paso 4: Leer los datos de la base de datos MySQL utilizando Pandas\n",
        "\n",
        "Escriba el código para leer los datos de la tabla `categories` de la base de datos MySQL utilizando Pandas y almacenarlos en un DataFrame llamado `df`. No olvide cerrar la conexión a la base de datos después de realizar la consulta.\n"
      ]
    },
    {
      "cell_type": "code",
      "execution_count": 41,
      "id": "CLdryJrWF2PG",
      "metadata": {
        "id": "CLdryJrWF2PG"
      },
      "outputs": [
        {
          "name": "stderr",
          "output_type": "stream",
          "text": [
            "C:\\Users\\GGudino\\AppData\\Local\\Temp\\ipykernel_27916\\2935381959.py:2: UserWarning: pandas only supports SQLAlchemy connectable (engine/connection) or database string URI or sqlite3 DBAPI2 connection. Other DBAPI2 objects are not tested. Please consider using SQLAlchemy.\n",
            "  df = pd.read_sql(sql, mydb)\n"
          ]
        },
        {
          "data": {
            "text/html": [
              "<div>\n",
              "<style scoped>\n",
              "    .dataframe tbody tr th:only-of-type {\n",
              "        vertical-align: middle;\n",
              "    }\n",
              "\n",
              "    .dataframe tbody tr th {\n",
              "        vertical-align: top;\n",
              "    }\n",
              "\n",
              "    .dataframe thead th {\n",
              "        text-align: right;\n",
              "    }\n",
              "</style>\n",
              "<table border=\"1\" class=\"dataframe\">\n",
              "  <thead>\n",
              "    <tr style=\"text-align: right;\">\n",
              "      <th></th>\n",
              "      <th>category_id</th>\n",
              "      <th>category_department_id</th>\n",
              "      <th>category_name</th>\n",
              "    </tr>\n",
              "  </thead>\n",
              "  <tbody>\n",
              "    <tr>\n",
              "      <th>0</th>\n",
              "      <td>1</td>\n",
              "      <td>2</td>\n",
              "      <td>Football</td>\n",
              "    </tr>\n",
              "    <tr>\n",
              "      <th>1</th>\n",
              "      <td>2</td>\n",
              "      <td>2</td>\n",
              "      <td>Soccer</td>\n",
              "    </tr>\n",
              "    <tr>\n",
              "      <th>2</th>\n",
              "      <td>3</td>\n",
              "      <td>2</td>\n",
              "      <td>Baseball &amp; Softball</td>\n",
              "    </tr>\n",
              "    <tr>\n",
              "      <th>3</th>\n",
              "      <td>4</td>\n",
              "      <td>2</td>\n",
              "      <td>Basketball</td>\n",
              "    </tr>\n",
              "    <tr>\n",
              "      <th>4</th>\n",
              "      <td>5</td>\n",
              "      <td>2</td>\n",
              "      <td>Lacrosse</td>\n",
              "    </tr>\n",
              "  </tbody>\n",
              "</table>\n",
              "</div>"
            ],
            "text/plain": [
              "   category_id  category_department_id        category_name\n",
              "0            1                       2             Football\n",
              "1            2                       2               Soccer\n",
              "2            3                       2  Baseball & Softball\n",
              "3            4                       2           Basketball\n",
              "4            5                       2             Lacrosse"
            ]
          },
          "execution_count": 41,
          "metadata": {},
          "output_type": "execute_result"
        }
      ],
      "source": [
        "sql = \"SELECT * FROM retail_db.categories\"\n",
        "df = pd.read_sql(sql, mydb)\n",
        "mydb.close()\n",
        "df.head()"
      ]
    },
    {
      "cell_type": "markdown",
      "id": "ZbTJHPnuF4yI",
      "metadata": {
        "id": "ZbTJHPnuF4yI"
      },
      "source": [
        "## Paso 5: Configurar las credenciales de Google Cloud\n",
        "\n",
        "Agregue el archivo JSON de las credenciales de su cuenta de Google Cloud al entorno de ejecución y establezca la variable de entorno `GOOGLE_APPLICATION_CREDENTIALS` con la ruta al archivo JSON.\n"
      ]
    },
    {
      "cell_type": "code",
      "execution_count": 42,
      "id": "F_0rWVA6F5cj",
      "metadata": {
        "id": "F_0rWVA6F5cj"
      },
      "outputs": [],
      "source": [
        "os.environ[\"GOOGLE_APPLICATION_CREDENTIALS\"] = \"service.json\" "
      ]
    },
    {
      "cell_type": "markdown",
      "id": "6HRVRXjmF6rR",
      "metadata": {
        "id": "6HRVRXjmF6rR"
      },
      "source": [
        "## Paso 6: Crear un cliente de BigQuery\n",
        "\n",
        "Escriba el código para crear un objeto cliente de BigQuery.\n"
      ]
    },
    {
      "cell_type": "code",
      "execution_count": 43,
      "id": "WuSKbz2xF9HO",
      "metadata": {
        "id": "WuSKbz2xF9HO"
      },
      "outputs": [],
      "source": [
        "# client = bigquery.Client()\n",
        "# Si usamos el archivo de servicio:\n",
        "client = bigquery.Client.from_service_account_json(\"service.json\")"
      ]
    },
    {
      "cell_type": "markdown",
      "id": "R1PwRWTEF9ZD",
      "metadata": {
        "id": "R1PwRWTEF9ZD"
      },
      "source": [
        "## Paso 7: Escribir los datos del DataFrame en Google BigQuery\n",
        "\n",
        "Escriba el código necesario para escribir los datos del DataFrame `df` en la tabla `ar_dp_dtkl_raw.categories` en Google BigQuery. Utilice la opción \"WRITE_TRUNCATE\" para sobrescribir cualquier dato existente en la tabla.\n"
      ]
    },
    {
      "cell_type": "code",
      "execution_count": 44,
      "id": "Gjfa5JD2F_PE",
      "metadata": {
        "id": "Gjfa5JD2F_PE"
      },
      "outputs": [],
      "source": [
        "tabla_id = \"acquired-script-391200.ar_dp_dtkl_raw.categories\"\n",
        "tabla_property = client.get_table(tabla_id)"
      ]
    },
    {
      "cell_type": "code",
      "execution_count": 45,
      "id": "f24c1c81",
      "metadata": {},
      "outputs": [],
      "source": [
        "job_configuration = bigquery.LoadJobConfig(\n",
        "    schema = tabla_property.schema,\n",
        "    write_disposition = \"WRITE_TRUNCATE\" # alternativas: WRITE_APPEND (agrega a la cola), WRITE_EMPTY (solo carga si esta vacía)\n",
        ")"
      ]
    },
    {
      "cell_type": "code",
      "execution_count": 46,
      "id": "6a520758",
      "metadata": {},
      "outputs": [
        {
          "name": "stdout",
          "output_type": "stream",
          "text": [
            "Carga completada\n"
          ]
        }
      ],
      "source": [
        "job = client.load_table_from_dataframe(\n",
        "    df, tabla_id, job_config=job_configuration\n",
        ")\n",
        "\n",
        "job.result() #esperar a que se complete la carga\n",
        "print(\"Carga completada\")"
      ]
    }
  ],
  "metadata": {
    "colab": {
      "provenance": []
    },
    "environment": {
      "kernel": "python3",
      "name": "common-cpu.m104",
      "type": "gcloud",
      "uri": "gcr.io/deeplearning-platform-release/base-cpu:m104"
    },
    "kernelspec": {
      "display_name": "Python 3",
      "language": "python",
      "name": "python3"
    },
    "language_info": {
      "codemirror_mode": {
        "name": "ipython",
        "version": 3
      },
      "file_extension": ".py",
      "mimetype": "text/x-python",
      "name": "python",
      "nbconvert_exporter": "python",
      "pygments_lexer": "ipython3",
      "version": "3.11.3"
    }
  },
  "nbformat": 4,
  "nbformat_minor": 5
}
