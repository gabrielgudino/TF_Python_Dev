{
 "cells": [
  {
   "cell_type": "markdown",
   "metadata": {},
   "source": [
    "# Desarrollo de la Ejercitación"
   ]
  },
  {
   "cell_type": "code",
   "execution_count": 83,
   "metadata": {},
   "outputs": [],
   "source": [
    "import pandas as pd\n",
    "import mysql.connector as connection\n",
    "from google.cloud import bigquery\n",
    "from dotenv import load_dotenv\n",
    "import os\n",
    "import json"
   ]
  },
  {
   "cell_type": "code",
   "execution_count": 84,
   "metadata": {},
   "outputs": [
    {
     "data": {
      "text/plain": [
       "True"
      ]
     },
     "execution_count": 84,
     "metadata": {},
     "output_type": "execute_result"
    }
   ],
   "source": [
    "load_dotenv()"
   ]
  },
  {
   "cell_type": "markdown",
   "metadata": {},
   "source": [
    "1. **Función de conexión a la base de datos SQL:** Esta función aceptará como entrada los parámetros de la base de datos (nombre de la base de datos, host, nombre de usuario, contraseña) para establecer una conexión segura utilizando una biblioteca de conexión a SQL. Si la conexión es exitosa devuelve un objeto de conexión; en caso de error, proporciona mensajes de error detallados. También puede gestionar la persistencia de la conexión según sea necesario."
   ]
  },
  {
   "cell_type": "code",
   "execution_count": 85,
   "metadata": {},
   "outputs": [],
   "source": [
    "mydb = None  # Variable global para almacenar el objeto de conexión\n",
    "\n",
    "def connectionDB(user=None, host=None, password=None, database=None):\n",
    "    \"\"\"\n",
    "    Esta función nos permite conectarnos a una base de datos MySQL y desconectarnos cuando sea necesario.\n",
    "\n",
    "    Argumentos:\n",
    "        user (str): Usuario de la base de datos.\n",
    "        host (str): Dirección IP o nombre del host de la base de datos.\n",
    "        password (str): Clave de acceso para el usuario especificado.\n",
    "        database (str): Nombre de la base de datos a la que deseamos conectarnos.\n",
    "\n",
    "    Retorna:\n",
    "        str: Si se proporcionan los argumentos de conexión, la función intentará establecer una conexión a la base de datos.\n",
    "             - Si la conexión es exitosa, devuelve un mensaje de confirmación.\n",
    "             - Si hay un error al conectar, devuelve un mensaje de error con información detallada.\n",
    "        Si no se proporcionan argumentos de conexión, la función verifica si hay una conexión activa para cerrarla.\n",
    "             - Si la conexión está activa, se cierra y devuelve un mensaje de confirmación.\n",
    "             - Si no hay una conexión activa, devuelve un mensaje informando que no se realizó ninguna conexión.\n",
    "\n",
    "    Nota:\n",
    "        Asegurarse de haber instalado la librería 'mysql-connector-python'. Se puede instalar usando el comando 'pip install mysql-connector-python'.\n",
    "    \"\"\"\n",
    "    global mydb  # Acceder a la variable global mydb dentro de la función\n",
    "\n",
    "    if user is not None and host is not None and password is not None and database is not None:\n",
    "        try:\n",
    "            mydb = connection.connect(\n",
    "                host=host,\n",
    "                user=user,\n",
    "                passwd=password,\n",
    "                database=database\n",
    "            )\n",
    "            return f\"Conexión exitosa a la base de datos: {database}\"\n",
    "\n",
    "        except connection.Error as e:\n",
    "            return f\"Error al conectar a la base de datos: {database}, {e}\"\n",
    "\n",
    "    elif mydb is not None and mydb.is_connected():\n",
    "        mydb.close()\n",
    "        mydb = None  # Reiniciar el objeto de conexión\n",
    "        return \"Conexión cerrada\"\n",
    "\n",
    "    elif mydb is None:\n",
    "        return \"No se proporcionaron los argumentos de conexión. No se realizó la conexión\"\n"
   ]
  },
  {
   "cell_type": "code",
   "execution_count": 86,
   "metadata": {},
   "outputs": [
    {
     "data": {
      "text/plain": [
       "'Conexión exitosa a la base de datos: retail_db'"
      ]
     },
     "execution_count": 86,
     "metadata": {},
     "output_type": "execute_result"
    }
   ],
   "source": [
    "connectionDB(host= os.getenv('DB_HOST'), \n",
    "        user= os.getenv('DB_USER'), \n",
    "        password= os.getenv('DB_PASS'), \n",
    "        database=os.getenv('DB_DB'))"
   ]
  },
  {
   "cell_type": "code",
   "execution_count": 87,
   "metadata": {},
   "outputs": [
    {
     "data": {
      "text/plain": [
       "'Conexión cerrada'"
      ]
     },
     "execution_count": 87,
     "metadata": {},
     "output_type": "execute_result"
    }
   ],
   "source": [
    "connectionDB()"
   ]
  },
  {
   "cell_type": "code",
   "execution_count": 88,
   "metadata": {},
   "outputs": [
    {
     "data": {
      "text/plain": [
       "'No se proporcionaron los argumentos de conexión. No se realizó la conexión'"
      ]
     },
     "execution_count": 88,
     "metadata": {},
     "output_type": "execute_result"
    }
   ],
   "source": [
    "connectionDB()"
   ]
  },
  {
   "cell_type": "markdown",
   "metadata": {},
   "source": [
    "Probamos el mensaje cuando le ingresamos un parámetro erroneo:"
   ]
  },
  {
   "cell_type": "code",
   "execution_count": 89,
   "metadata": {},
   "outputs": [
    {
     "data": {
      "text/plain": [
       "\"Error al conectar a la base de datos: retail_db, 2003 (HY000): Can't connect to MySQL server on '1.1.1.1:3306' (10060)\""
      ]
     },
     "execution_count": 89,
     "metadata": {},
     "output_type": "execute_result"
    }
   ],
   "source": [
    "connectionDB(host= \"1.1.1.1\", \n",
    "        user= os.getenv('DB_USER'), \n",
    "        password= os.getenv('DB_PASS'), \n",
    "        database=os.getenv('DB_DB'))"
   ]
  },
  {
   "cell_type": "code",
   "execution_count": 90,
   "metadata": {},
   "outputs": [],
   "source": [
    "def listTables(user=None, host=None, password=None, database=None):\n",
    "    \"\"\"\n",
    "    Obtiene la lista de tablas en una base de datos MySQL y la devuelve en formato JSON.\n",
    "\n",
    "    Parámetros:\n",
    "    user (str): Usuario de la base de datos MySQL. (Opcional si ya se han configurado las variables de entorno)\n",
    "    host (str): Dirección del host de la base de datos MySQL. (Opcional si ya se han configurado las variables de entorno)\n",
    "    password (str): Contraseña del usuario de la base de datos MySQL. (Opcional si ya se han configurado las variables de entorno)\n",
    "    database (str): Nombre de la base de datos MySQL. (Opcional si ya se han configurado las variables de entorno)\n",
    "\n",
    "    Retorna:\n",
    "    str: Una lista en formato JSON que contiene los nombres de todas las tablas de la base de datos.\n",
    "\n",
    "    Requiere:\n",
    "    - La librería 'mysql-connector-python' debe estar instalada. Puedes instalarla usando el comando 'pip install mysql-connector-python'.\n",
    "    - Se deben configurar las variables de entorno 'DB_HOST', 'DB_USER', 'DB_PASS' y 'DB_DB' con los valores de conexión a la base de datos MySQL \n",
    "    en caso que no las indiquemos en los parámetros.\n",
    "\n",
    "    Notas:\n",
    "    - Asegúrarse de haber configurado correctamente las variables de entorno 'DB_HOST', 'DB_USER', 'DB_PASS' y 'DB_DB' con los valores adecuados.\n",
    "    - La función se conectará a la base de datos, ejecutará una consulta para obtener la lista de tablas y luego cerrará la conexión.\n",
    "    - Si se proporcionan los parámetros user, host, password y database, se utilizarán para establecer la conexión. Si no se proporcionan,\n",
    "      se utilizarán las variables de entorno configuradas previamente.\n",
    "    \"\"\"\n",
    "    if user is not None and host is not None and password is not None and database is not None:\n",
    "        try:\n",
    "            mydb = connection.connect(\n",
    "                host=host,\n",
    "                user=user,\n",
    "                passwd=password,\n",
    "                database=database\n",
    "            )\n",
    "\n",
    "            cursor = mydb.cursor()\n",
    "            sql = \"SHOW TABLES\"\n",
    "            cursor.execute(sql)\n",
    "\n",
    "            table_list = [table[0] for table in cursor.fetchall()]\n",
    "\n",
    "            cursor.close()\n",
    "            mydb.close()\n",
    "\n",
    "            return json.dumps(table_list)    \n",
    "        \n",
    "        except connection.Error as e:\n",
    "            return \"No se pudo establecer conexión.\"\n",
    "    \n",
    "    else:\n",
    "        try:\n",
    "            mydb = connection.connect(\n",
    "                host=os.getenv('DB_HOST'),\n",
    "                user=os.getenv('DB_USER'),\n",
    "                passwd=os.getenv('DB_PASS'),\n",
    "                database=os.getenv('DB_DB')\n",
    "            )\n",
    "\n",
    "            cursor = mydb.cursor()\n",
    "            sql = \"SHOW TABLES\"\n",
    "            cursor.execute(sql)\n",
    "\n",
    "            table_list = [table[0] for table in cursor.fetchall()]\n",
    "\n",
    "            cursor.close()\n",
    "            mydb.close()\n",
    "\n",
    "            return json.dumps(table_list)    \n",
    "        \n",
    "        except connection.Error as e:\n",
    "            return \"No se pudo establecer conexión.\"\n",
    "\n",
    "    "
   ]
  },
  {
   "cell_type": "code",
   "execution_count": 91,
   "metadata": {},
   "outputs": [
    {
     "data": {
      "text/plain": [
       "'[\"categories\", \"customers\", \"departments\", \"order_items\", \"orders\", \"products\"]'"
      ]
     },
     "execution_count": 91,
     "metadata": {},
     "output_type": "execute_result"
    }
   ],
   "source": [
    "listTables(host= os.getenv('DB_HOST'), \n",
    "        user= os.getenv('DB_USER'), \n",
    "        password= os.getenv('DB_PASS'), \n",
    "        database=os.getenv('DB_DB'))"
   ]
  },
  {
   "cell_type": "markdown",
   "metadata": {},
   "source": [
    "3. **Función para copiar tablas desde SQL a BigQuery:** Esta función permitirá la copia de todas las tablas desde la base de datos SQL a BigQuery. Sin embargo, también ofrecerá la flexibilidad de seleccionar y copiar una tabla específica si el usuario así lo desea. "
   ]
  },
  {
   "cell_type": "code",
   "execution_count": 92,
   "metadata": {},
   "outputs": [],
   "source": [
    "def copyBigQuery(*tables):\n",
    "    \"\"\"\n",
    "    Copia tablas desde una base de datos MySQL a BigQuery utilizando la API de streaming.\n",
    "\n",
    "    Parámetros:\n",
    "    *tables: Argumentos opcionales. Si no se proporcionan argumentos, la función copiará todas las tablas disponibles.\n",
    "             Si se proporcionan nombres de tablas como argumentos, solo copiará esas tablas específicas.\n",
    "\n",
    "    Retorna:\n",
    "    Si no se proporcionan argumentos (*tables), la función copiará todas las tablas disponibles y devolverá un mensaje\n",
    "    indicando que la carga se completó para todas las tablas.\n",
    "    Si se proporcionan nombres de tablas como argumentos, la función copiará solo esas tablas y devolverá un mensaje\n",
    "    indicando las tablas que se cargaron correctamente y las que no se pudieron cargar.\n",
    "\n",
    "    Requiere:\n",
    "    - Que el usuario haya configurado correctamente las variables de entorno para la conexión a la base de datos MySQL.\n",
    "      (DB_HOST, DB_USER, DB_PASS, DB_DB)\n",
    "    - Un archivo de credenciales de servicio de Google Cloud (service.json) que tenga acceso a BigQuery.\n",
    "\n",
    "    Notas:\n",
    "    - La función carga los datos utilizando la API de streaming de BigQuery, lo que puede ser más eficiente y escalable\n",
    "      para grandes conjuntos de datos que cargar un DataFrame.\n",
    "    - La función asume que las tablas en MySQL tienen la misma estructura que las tablas de destino en BigQuery.\n",
    "\n",
    "    Ejemplos de uso:\n",
    "    # Copiar todas las tablas disponibles desde MySQL a BigQuery\n",
    "    copyBigQuery()\n",
    "\n",
    "    # Copiar tablas específicas desde MySQL a BigQuery\n",
    "    copyBigQuery(\"table1\", \"table2\", \"table3\")\n",
    "    \"\"\"\n",
    "    tablesList = json.loads(listTables())\n",
    "    os.environ[\"GOOGLE_APPLICATION_CREDENTIALS\"] = \"service.json\"\n",
    "    client = bigquery.Client.from_service_account_json(\"service.json\")\n",
    "\n",
    "    mydb = connection.connect(\n",
    "    host= os.getenv('DB_HOST'), \n",
    "    user= os.getenv('DB_USER'),\n",
    "    passwd= os.getenv('DB_PASS'), \n",
    "    database=os.getenv('DB_DB') \n",
    "    )\n",
    "    \n",
    "    database = os.getenv('DB_DB')\n",
    "\n",
    "    loaded = []\n",
    "    not_loaded = []\n",
    "\n",
    "    if len(tables) == 0:\n",
    "        for table in tablesList:\n",
    "            sql = f\"SELECT * FROM retail_db.{table}\"\n",
    "            df = pd.read_sql(sql, mydb)\n",
    "                                    \n",
    "            tabla_id = f\"acquired-script-391200.ar_dp_dtkl_raw.{table}\"\n",
    "            tabla_property = client.get_table(tabla_id)\n",
    "\n",
    "            job_configuration = bigquery.LoadJobConfig(\n",
    "            schema = tabla_property.schema,\n",
    "            write_disposition = \"WRITE_TRUNCATE\"\n",
    "            )\n",
    "\n",
    "            job = client.load_table_from_dataframe(\n",
    "            df, tabla_id, job_config=job_configuration\n",
    "            )\n",
    "\n",
    "            job.result() #esperar a que se complete la carga\n",
    "        \n",
    "        return f\"Carga completa de todas las tablas en: {database}\"\n",
    "    \n",
    "    else:\n",
    "        for tb in tables:\n",
    "            if tb in tablesList:\n",
    "                sql = f\"SELECT * FROM retail_db.{tb}\"\n",
    "                df = pd.read_sql(sql, mydb)\n",
    "                                    \n",
    "                tabla_id = f\"acquired-script-391200.ar_dp_dtkl_raw.{tb}\"\n",
    "                tabla_property = client.get_table(tabla_id)\n",
    "\n",
    "                job_configuration = bigquery.LoadJobConfig(\n",
    "                schema = tabla_property.schema,\n",
    "                write_disposition = \"WRITE_TRUNCATE\"\n",
    "                )\n",
    "\n",
    "                job = client.load_table_from_dataframe(\n",
    "                df, tabla_id, job_config=job_configuration\n",
    "                )\n",
    "\n",
    "                job.result()\n",
    "\n",
    "                loaded.append(tb)\n",
    "            \n",
    "            else:\n",
    "                not_loaded.append(tb)\n",
    "    return f\"Se cargaron las siguientes tablas: {loaded}. Hubo inconvenientes al cargar: {not_loaded}\"\n",
    "\n",
    "    mydb.close()"
   ]
  },
  {
   "cell_type": "code",
   "execution_count": 93,
   "metadata": {},
   "outputs": [
    {
     "name": "stderr",
     "output_type": "stream",
     "text": [
      "C:\\Users\\GGudino\\AppData\\Local\\Temp\\ipykernel_26976\\2111687191.py:73: UserWarning: pandas only supports SQLAlchemy connectable (engine/connection) or database string URI or sqlite3 DBAPI2 connection. Other DBAPI2 objects are not tested. Please consider using SQLAlchemy.\n",
      "  df = pd.read_sql(sql, mydb)\n",
      "C:\\Users\\GGudino\\AppData\\Local\\Temp\\ipykernel_26976\\2111687191.py:73: UserWarning: pandas only supports SQLAlchemy connectable (engine/connection) or database string URI or sqlite3 DBAPI2 connection. Other DBAPI2 objects are not tested. Please consider using SQLAlchemy.\n",
      "  df = pd.read_sql(sql, mydb)\n"
     ]
    },
    {
     "data": {
      "text/plain": [
       "\"Se cargaron las siguientes tablas: ['customers', 'categories']. Hubo inconvenientes al cargar: ['clientes_nuevos']\""
      ]
     },
     "execution_count": 93,
     "metadata": {},
     "output_type": "execute_result"
    }
   ],
   "source": [
    "copyBigQuery(\"customers\", \"categories\", \"clientes_nuevos\")"
   ]
  },
  {
   "cell_type": "code",
   "execution_count": 94,
   "metadata": {},
   "outputs": [
    {
     "name": "stderr",
     "output_type": "stream",
     "text": [
      "C:\\Users\\GGudino\\AppData\\Local\\Temp\\ipykernel_26976\\2111687191.py:51: UserWarning: pandas only supports SQLAlchemy connectable (engine/connection) or database string URI or sqlite3 DBAPI2 connection. Other DBAPI2 objects are not tested. Please consider using SQLAlchemy.\n",
      "  df = pd.read_sql(sql, mydb)\n",
      "C:\\Users\\GGudino\\AppData\\Local\\Temp\\ipykernel_26976\\2111687191.py:51: UserWarning: pandas only supports SQLAlchemy connectable (engine/connection) or database string URI or sqlite3 DBAPI2 connection. Other DBAPI2 objects are not tested. Please consider using SQLAlchemy.\n",
      "  df = pd.read_sql(sql, mydb)\n",
      "C:\\Users\\GGudino\\AppData\\Local\\Temp\\ipykernel_26976\\2111687191.py:51: UserWarning: pandas only supports SQLAlchemy connectable (engine/connection) or database string URI or sqlite3 DBAPI2 connection. Other DBAPI2 objects are not tested. Please consider using SQLAlchemy.\n",
      "  df = pd.read_sql(sql, mydb)\n",
      "C:\\Users\\GGudino\\AppData\\Local\\Temp\\ipykernel_26976\\2111687191.py:51: UserWarning: pandas only supports SQLAlchemy connectable (engine/connection) or database string URI or sqlite3 DBAPI2 connection. Other DBAPI2 objects are not tested. Please consider using SQLAlchemy.\n",
      "  df = pd.read_sql(sql, mydb)\n",
      "C:\\Users\\GGudino\\AppData\\Local\\Temp\\ipykernel_26976\\2111687191.py:51: UserWarning: pandas only supports SQLAlchemy connectable (engine/connection) or database string URI or sqlite3 DBAPI2 connection. Other DBAPI2 objects are not tested. Please consider using SQLAlchemy.\n",
      "  df = pd.read_sql(sql, mydb)\n",
      "C:\\Users\\GGudino\\AppData\\Local\\Temp\\ipykernel_26976\\2111687191.py:51: UserWarning: pandas only supports SQLAlchemy connectable (engine/connection) or database string URI or sqlite3 DBAPI2 connection. Other DBAPI2 objects are not tested. Please consider using SQLAlchemy.\n",
      "  df = pd.read_sql(sql, mydb)\n"
     ]
    },
    {
     "data": {
      "text/plain": [
       "'Carga completa de todas las tablas en: retail_db'"
      ]
     },
     "execution_count": 94,
     "metadata": {},
     "output_type": "execute_result"
    }
   ],
   "source": [
    "copyBigQuery()"
   ]
  }
 ],
 "metadata": {
  "kernelspec": {
   "display_name": "venvp",
   "language": "python",
   "name": "python3"
  },
  "language_info": {
   "codemirror_mode": {
    "name": "ipython",
    "version": 3
   },
   "file_extension": ".py",
   "mimetype": "text/x-python",
   "name": "python",
   "nbconvert_exporter": "python",
   "pygments_lexer": "ipython3",
   "version": "3.11.3"
  },
  "orig_nbformat": 4
 },
 "nbformat": 4,
 "nbformat_minor": 2
}
